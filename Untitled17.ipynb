{
  "nbformat": 4,
  "nbformat_minor": 0,
  "metadata": {
    "colab": {
      "provenance": [],
      "authorship_tag": "ABX9TyMQYsZAGG0d8XcV9U/5qyUH",
      "include_colab_link": true
    },
    "kernelspec": {
      "name": "python3",
      "display_name": "Python 3"
    },
    "language_info": {
      "name": "python"
    }
  },
  "cells": [
    {
      "cell_type": "markdown",
      "metadata": {
        "id": "view-in-github",
        "colab_type": "text"
      },
      "source": [
        "<a href=\"https://colab.research.google.com/github/Suryapilla73372/MachineLearning/blob/main/Untitled17.ipynb\" target=\"_parent\"><img src=\"https://colab.research.google.com/assets/colab-badge.svg\" alt=\"Open In Colab\"/></a>"
      ]
    },
    {
      "cell_type": "code",
      "execution_count": 3,
      "metadata": {
        "colab": {
          "base_uri": "https://localhost:8080/"
        },
        "id": "RP_b4odRCSZE",
        "outputId": "860eae95-47c8-4a12-8d04-ef75bf16a536"
      },
      "outputs": [
        {
          "output_type": "stream",
          "name": "stdout",
          "text": [
            "su\n"
          ]
        }
      ],
      "source": [
        "arr=[\"su\",\"ry\",\"a\"]\n",
        "x=arr[0]\n",
        "print(x)"
      ]
    },
    {
      "cell_type": "code",
      "source": [
        "arr=[\"su\",\"ry\",\"a\"]\n",
        "for i in arr:\n",
        "  print(i)"
      ],
      "metadata": {
        "colab": {
          "base_uri": "https://localhost:8080/"
        },
        "id": "BOkKFs7uDjE-",
        "outputId": "56f3c1b6-1b82-47ee-951e-d0e2a017b89b"
      },
      "execution_count": 4,
      "outputs": [
        {
          "output_type": "stream",
          "name": "stdout",
          "text": [
            "su\n",
            "ry\n",
            "a\n"
          ]
        }
      ]
    },
    {
      "cell_type": "code",
      "source": [
        "#non recurssion\n",
        "\n",
        "arr=[1,2,3,4,5]\n",
        "sum=0\n",
        "n=len(arr)\n",
        "for i in range(0,n):\n",
        "  sum=sum+arr[i]\n",
        "print(sum)\n",
        "print(n)"
      ],
      "metadata": {
        "colab": {
          "base_uri": "https://localhost:8080/"
        },
        "id": "PgbEw06SECMQ",
        "outputId": "5f420313-2b69-49bc-b227-0bb3ecd04bed"
      },
      "execution_count": 10,
      "outputs": [
        {
          "output_type": "stream",
          "name": "stdout",
          "text": [
            "15\n",
            "5\n"
          ]
        }
      ]
    },
    {
      "cell_type": "code",
      "source": [
        "#using recurssion\n",
        "\n",
        "arr=[1,2,3,4,5]\n",
        "n=len(arr)\n",
        "def sum(arr,n):\n",
        "  if(n==0):\n",
        "    return 0\n",
        "  else:\n",
        "    return arr[n-1]+sum(arr,n-1)\n",
        "\n",
        "print(sum(arr,n))\n",
        "\n"
      ],
      "metadata": {
        "colab": {
          "base_uri": "https://localhost:8080/"
        },
        "id": "MuTCsTJQFvHQ",
        "outputId": "acd07553-9c9b-411e-ef9d-2121d52abe8a"
      },
      "execution_count": 14,
      "outputs": [
        {
          "output_type": "stream",
          "name": "stdout",
          "text": [
            "15\n"
          ]
        }
      ]
    },
    {
      "cell_type": "code",
      "source": [
        "#reverse of list\n",
        "\n",
        "def reverseList(A,start,end):\n",
        "  if start >= end:\n",
        "    return\n",
        "  A[start],A[end] = A[end],A[start]\n",
        "  reverseList(A,start+1,end-1)\n",
        "A = [10,20,30,40,50]\n",
        "reverseList(A,0,4)\n",
        "print(A)"
      ],
      "metadata": {
        "colab": {
          "base_uri": "https://localhost:8080/"
        },
        "id": "xFP1LA36N1M5",
        "outputId": "a255013f-5296-4f5b-dc08-4c8016a386e1"
      },
      "execution_count": 25,
      "outputs": [
        {
          "output_type": "stream",
          "name": "stdout",
          "text": [
            "[50, 40, 30, 20, 10]\n"
          ]
        }
      ]
    },
    {
      "cell_type": "code",
      "source": [
        "#reverse of a list\n",
        "\n",
        "arr=[1,2,3,4,5,6]\n",
        "n=len(arr)\n",
        "arr1=[1,2,3,4,5,6]\n",
        "k=0\n",
        "for i in range(0,n):\n",
        "  arr1[k]=arr[n-1-i]\n",
        "  k+=1\n",
        "print(arr1)\n",
        "\n",
        "\n"
      ],
      "metadata": {
        "colab": {
          "base_uri": "https://localhost:8080/"
        },
        "id": "lr-7yaL8HohF",
        "outputId": "aa536b54-b697-4094-8f88-53b8f743d6a6"
      },
      "execution_count": 30,
      "outputs": [
        {
          "output_type": "stream",
          "name": "stdout",
          "text": [
            "[6, 5, 4, 3, 2, 1]\n"
          ]
        }
      ]
    },
    {
      "cell_type": "code",
      "source": [
        "#min of array\n",
        "arr=[1,3,2,7,4]\n",
        "n=len(arr)\n",
        "temp=arr[0]\n",
        "for i in range(0,n):\n",
        "  if(temp>arr[i]):\n",
        "    temp=arr[i]\n",
        "print(temp)"
      ],
      "metadata": {
        "colab": {
          "base_uri": "https://localhost:8080/"
        },
        "id": "hzclXNu3RML2",
        "outputId": "41833f17-6eab-4120-e34b-310cde451a2b"
      },
      "execution_count": 32,
      "outputs": [
        {
          "output_type": "stream",
          "name": "stdout",
          "text": [
            "1\n"
          ]
        }
      ]
    },
    {
      "cell_type": "code",
      "source": [
        "#max of array\n",
        "arr=[1,3,2,7,4]\n",
        "n=len(arr)\n",
        "temp=arr[0]\n",
        "for i in range(0,n):\n",
        "  if(temp<arr[i]):\n",
        "    temp=arr[i]\n",
        "print(temp)"
      ],
      "metadata": {
        "colab": {
          "base_uri": "https://localhost:8080/"
        },
        "id": "5oVy8FwBSYNQ",
        "outputId": "05773515-526b-4973-cb77-ef19d8dff008"
      },
      "execution_count": 33,
      "outputs": [
        {
          "output_type": "stream",
          "name": "stdout",
          "text": [
            "7\n"
          ]
        }
      ]
    },
    {
      "cell_type": "code",
      "source": [],
      "metadata": {
        "id": "0wrbT0c2So8A"
      },
      "execution_count": null,
      "outputs": []
    }
  ]
}